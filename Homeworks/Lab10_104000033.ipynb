{
 "cells": [
  {
   "cell_type": "code",
   "execution_count": 0,
   "metadata": {
    "colab": {},
    "colab_type": "code",
    "id": "G9oq3u7jA3Us"
   },
   "outputs": [],
   "source": [
    "import tensorflow as tf"
   ]
  },
  {
   "cell_type": "code",
   "execution_count": 0,
   "metadata": {
    "colab": {},
    "colab_type": "code",
    "id": "gTQIIqIP_Lwq"
   },
   "outputs": [],
   "source": [
    "import numpy as np"
   ]
  },
  {
   "cell_type": "markdown",
   "metadata": {
    "colab_type": "text",
    "id": "NhHwV3Dr_j9-"
   },
   "source": [
    "#### some low level function"
   ]
  },
  {
   "cell_type": "code",
   "execution_count": 0,
   "metadata": {
    "colab": {},
    "colab_type": "code",
    "id": "9gqomcqMhoT7"
   },
   "outputs": [],
   "source": [
    "def Myrelu(X):\n",
    "    return tf.maximum(X, tf.zeros_like(X))"
   ]
  },
  {
   "cell_type": "code",
   "execution_count": 0,
   "metadata": {
    "colab": {},
    "colab_type": "code",
    "id": "zBiQLCm_UttX"
   },
   "outputs": [],
   "source": [
    "def mySoftMax(X):\n",
    "    X_centered = X - tf.reduce_max(X) # to avoid overflow\n",
    "    X_exp = tf.exp(X_centered)\n",
    "    exp_sum = tf.reduce_sum(X_exp, axis=1)\n",
    "    return tf.transpose(tf.transpose(X_exp) / exp_sum)"
   ]
  },
  {
   "cell_type": "code",
   "execution_count": 0,
   "metadata": {
    "colab": {},
    "colab_type": "code",
    "id": "SR8E83R0_yMk"
   },
   "outputs": [],
   "source": [
    "def Mysigmoid(X):\n",
    "    return 1.0/(1.0 + tf.math.exp(-X))"
   ]
  },
  {
   "cell_type": "code",
   "execution_count": 0,
   "metadata": {
    "colab": {},
    "colab_type": "code",
    "id": "D7BbEFaUnfmS"
   },
   "outputs": [],
   "source": [
    "def cross_entropy_error(y, t):\n",
    "    return -tf.reduce_mean(tf.log(tf.reduce_sum(y * t, axis=1)))"
   ]
  },
  {
   "cell_type": "markdown",
   "metadata": {
    "colab_type": "text",
    "id": "bHYTalu8_YYT"
   },
   "source": [
    "## 1. Learning the XOR"
   ]
  },
  {
   "cell_type": "code",
   "execution_count": 0,
   "metadata": {
    "colab": {},
    "colab_type": "code",
    "id": "b9lxQyRd_agM"
   },
   "outputs": [],
   "source": [
    "# xor task\n",
    "xor_data = np.array([[1, 0],\n",
    "                    [0, 1],\n",
    "                    [1, 1],\n",
    "                    [0, 0]])\n",
    "xor_label = np.array([[1], [1], [0], [0]])"
   ]
  },
  {
   "cell_type": "code",
   "execution_count": 0,
   "metadata": {
    "colab": {},
    "colab_type": "code",
    "id": "H18HhOgz_-kW"
   },
   "outputs": [],
   "source": [
    "learning_rates = 0.01\n",
    "with tf.Graph().as_default() as g:\n",
    "    with tf.name_scope('data') as scope:\n",
    "        X = tf.placeholder(tf.float32, shape=[4,2], name = 'X')\n",
    "        Y = tf.placeholder(tf.float32, shape=[4,1], name = 'Y')\n",
    "    \n",
    "    with tf.name_scope('relu') as scope:\n",
    "        W1 = tf.Variable(tf.truncated_normal([2,2]), name = 'W1')\n",
    "        b1 = tf.Variable(tf.zeros([4,2]), name = 'b1')\n",
    "        relu = Myrelu(tf.add(tf.matmul(X, W1), b1))\n",
    "        \n",
    "    with tf.name_scope('sigmoid') as scope:\n",
    "        W2 = tf.Variable(tf.truncated_normal([2,1]), name = \"W2\")\n",
    "        b2 = tf.Variable(tf.zeros([4,1]), name = 'b2')\n",
    "        prediction = Mysigmoid(tf.add(tf.matmul(relu, W2), b2))\n",
    "        \n",
    "    with tf.name_scope(\"loss\") as scope:\n",
    "        loss = tf.reduce_mean(tf.squared_difference(prediction, Y)) \n",
    "\n",
    "    with tf.name_scope('optimizer') as scope:\n",
    "        optimizer = tf.train.GradientDescentOptimizer(learning_rates).minimize(loss)\n",
    "        \n",
    "    with tf.name_scope(\"accuracy\") as scope:\n",
    "        t_predict = tf.argmax(prediction, axis=1)\n",
    "        t_actual = tf.argmax(Y, axis=1)\n",
    "        acc = tf.reduce_mean(tf.cast(tf.equal(t_predict, t_actual), tf.float32))\n",
    "        tf.summary.scalar('Accuracy', acc)"
   ]
  },
  {
   "cell_type": "code",
   "execution_count": 10,
   "metadata": {
    "colab": {
     "base_uri": "https://localhost:8080/",
     "height": 306
    },
    "colab_type": "code",
    "id": "u_ThZpvbABv7",
    "outputId": "1ed0f836-9679-480e-948e-fbe1df1681ba"
   },
   "outputs": [
    {
     "name": "stdout",
     "output_type": "stream",
     "text": [
      "Accuracy:  1.0\n",
      "w of relu: \n",
      "     [-1.1005414 -1.6694647]\n",
      "     [-0.05850164 -0.5328449 ]\n",
      "bias of relu: \n",
      "     [0. 0.]\n",
      "     [0. 0.]\n",
      "     [0. 0.]\n",
      "     [-0.00088206 -0.00045285]\n",
      "w of sigmoid: \n",
      "     [1.4112934]\n",
      "     [0.72456217]\n",
      "bias of sigmoid: \n",
      "     [2.4099236]\n",
      "     [2.4099236]\n",
      "     [-2.4099236]\n",
      "     [-2.4099236]\n"
     ]
    }
   ],
   "source": [
    "with tf.Session(graph=g) as sess:\n",
    "    init = tf.global_variables_initializer()\n",
    "    sess.run(init)\n",
    "    for epoch in range(20001):\n",
    "        sess.run(optimizer, feed_dict={X: xor_data, Y: xor_label})\n",
    "    result = sess.run(prediction, feed_dict={X: xor_data, Y: xor_label})\n",
    "    print(\"Accuracy: \", sess.run(acc, feed_dict={X:xor_data, Y:xor_label}))\n",
    "    \n",
    "    print('w of relu: ')\n",
    "    for element in sess.run(W1):\n",
    "        print('    ', element)\n",
    "    print('bias of relu: ')\n",
    "    for element in sess.run(b1):\n",
    "        print('    ', element)\n",
    "    print('w of sigmoid: ')\n",
    "    for element in sess.run(W2):\n",
    "        print('    ', element)\n",
    "    print('bias of sigmoid: ')\n",
    "    for element in sess.run(b2):\n",
    "        print('    ', element)\n",
    "        \n",
    "    graph_dir = \"graphs/demo\"\n",
    "    # create a writer \n",
    "    writer = tf.summary.FileWriter(graph_dir, sess.graph)"
   ]
  },
  {
   "cell_type": "markdown",
   "metadata": {
    "colab_type": "text",
    "id": "1euG6942AD5y"
   },
   "source": [
    "## 2. MNIST - Digits classification\n",
    "### First solution using fully *connected*"
   ]
  },
  {
   "cell_type": "code",
   "execution_count": 11,
   "metadata": {
    "colab": {
     "base_uri": "https://localhost:8080/",
     "height": 550
    },
    "colab_type": "code",
    "id": "EAyNSRdjAOUx",
    "outputId": "6556ebf7-5502-4dd5-f725-501618dfa5e9"
   },
   "outputs": [
    {
     "name": "stdout",
     "output_type": "stream",
     "text": [
      "WARNING:tensorflow:From <ipython-input-11-e70db4c1b96c>:3: read_data_sets (from tensorflow.contrib.learn.python.learn.datasets.mnist) is deprecated and will be removed in a future version.\n",
      "Instructions for updating:\n",
      "Please use alternatives such as official/mnist/dataset.py from tensorflow/models.\n",
      "WARNING:tensorflow:From /usr/local/lib/python3.6/dist-packages/tensorflow/contrib/learn/python/learn/datasets/mnist.py:260: maybe_download (from tensorflow.contrib.learn.python.learn.datasets.base) is deprecated and will be removed in a future version.\n",
      "Instructions for updating:\n",
      "Please write your own downloading logic.\n",
      "WARNING:tensorflow:From /usr/local/lib/python3.6/dist-packages/tensorflow/contrib/learn/python/learn/datasets/base.py:252: _internal_retry.<locals>.wrap.<locals>.wrapped_fn (from tensorflow.contrib.learn.python.learn.datasets.base) is deprecated and will be removed in a future version.\n",
      "Instructions for updating:\n",
      "Please use urllib or similar directly.\n",
      "Successfully downloaded train-images-idx3-ubyte.gz 9912422 bytes.\n",
      "WARNING:tensorflow:From /usr/local/lib/python3.6/dist-packages/tensorflow/contrib/learn/python/learn/datasets/mnist.py:262: extract_images (from tensorflow.contrib.learn.python.learn.datasets.mnist) is deprecated and will be removed in a future version.\n",
      "Instructions for updating:\n",
      "Please use tf.data to implement this functionality.\n",
      "Extracting data/mnist/train-images-idx3-ubyte.gz\n",
      "Successfully downloaded train-labels-idx1-ubyte.gz 28881 bytes.\n",
      "WARNING:tensorflow:From /usr/local/lib/python3.6/dist-packages/tensorflow/contrib/learn/python/learn/datasets/mnist.py:267: extract_labels (from tensorflow.contrib.learn.python.learn.datasets.mnist) is deprecated and will be removed in a future version.\n",
      "Instructions for updating:\n",
      "Please use tf.data to implement this functionality.\n",
      "Extracting data/mnist/train-labels-idx1-ubyte.gz\n",
      "WARNING:tensorflow:From /usr/local/lib/python3.6/dist-packages/tensorflow/contrib/learn/python/learn/datasets/mnist.py:110: dense_to_one_hot (from tensorflow.contrib.learn.python.learn.datasets.mnist) is deprecated and will be removed in a future version.\n",
      "Instructions for updating:\n",
      "Please use tf.one_hot on tensors.\n",
      "Successfully downloaded t10k-images-idx3-ubyte.gz 1648877 bytes.\n",
      "Extracting data/mnist/t10k-images-idx3-ubyte.gz\n",
      "Successfully downloaded t10k-labels-idx1-ubyte.gz 4542 bytes.\n",
      "Extracting data/mnist/t10k-labels-idx1-ubyte.gz\n",
      "WARNING:tensorflow:From /usr/local/lib/python3.6/dist-packages/tensorflow/contrib/learn/python/learn/datasets/mnist.py:290: DataSet.__init__ (from tensorflow.contrib.learn.python.learn.datasets.mnist) is deprecated and will be removed in a future version.\n",
      "Instructions for updating:\n",
      "Please use alternatives such as official/mnist/dataset.py from tensorflow/models.\n"
     ]
    }
   ],
   "source": [
    "from tensorflow.examples.tutorials.mnist import input_data\n",
    "# load mnist data\n",
    "mnist = input_data.read_data_sets(\"data/mnist\", one_hot=True)"
   ]
  },
  {
   "cell_type": "code",
   "execution_count": 12,
   "metadata": {
    "colab": {
     "base_uri": "https://localhost:8080/",
     "height": 102
    },
    "colab_type": "code",
    "id": "CLORtWitAQfl",
    "outputId": "7546d13f-0a80-43b7-fb08-a368894e2fdd"
   },
   "outputs": [
    {
     "name": "stdout",
     "output_type": "stream",
     "text": [
      "training data size: 55000\n",
      "validation data size: 5000\n",
      "testing data size: 10000\n",
      "Shape of image: (784,)\n",
      "Shape of label: (10,)\n"
     ]
    }
   ],
   "source": [
    "print(\"training data size: {}\".format(mnist.train.num_examples))\n",
    "print(\"validation data size: {}\".format(mnist.validation.num_examples))\n",
    "print(\"testing data size: {}\".format(mnist.test.num_examples))\n",
    "\n",
    "print(\"Shape of image: {}\".format(mnist.train.images[0].shape))\n",
    "print(\"Shape of label: {}\".format(mnist.train.labels[0].shape))"
   ]
  },
  {
   "cell_type": "code",
   "execution_count": 13,
   "metadata": {
    "colab": {
     "base_uri": "https://localhost:8080/",
     "height": 215
    },
    "colab_type": "code",
    "id": "DjzjtWSXASRC",
    "outputId": "f302c5a4-d244-4844-bcd1-4479aa9ed372"
   },
   "outputs": [
    {
     "data": {
      "image/png": "[encoded data removed]",
      "text/plain": [
       "<matplotlib.figure.Figure at 0x7f6f0e172320>"
      ]
     },
     "metadata": {
      "tags": []
     },
     "output_type": "display_data"
    }
   ],
   "source": [
    "%matplotlib inline\n",
    "import matplotlib.pyplot as plt\n",
    "\n",
    "n = 5\n",
    "plt.figure(figsize=(18,18))\n",
    "for i in range(5):\n",
    "    plt.subplot(n, n, i+1)\n",
    "    plt.imshow(mnist.train.images[i].reshape(28,28), cmap='gray')\n",
    "    plt.title(np.argmax(mnist.train.labels[i]))\n",
    "    plt.xticks([])\n",
    "    plt.yticks([])\n",
    "plt.show()"
   ]
  },
  {
   "cell_type": "code",
   "execution_count": 0,
   "metadata": {
    "colab": {},
    "colab_type": "code",
    "id": "Xi9AyQlNAU1R"
   },
   "outputs": [],
   "source": [
    "# Hyperparameter\n",
    "learning_rates = 0.5\n",
    "epochs = 10\n",
    "batch_size = 100"
   ]
  },
  {
   "cell_type": "code",
   "execution_count": 15,
   "metadata": {
    "colab": {
     "base_uri": "https://localhost:8080/",
     "height": 221
    },
    "colab_type": "code",
    "id": "5D5YzlcAAXMG",
    "outputId": "30774433-bf1b-407a-cb77-bc4299ca2e24"
   },
   "outputs": [
    {
     "name": "stdout",
     "output_type": "stream",
     "text": [
      "Epoch: 0001 cost= 0.191578761\n",
      "Epoch: 0002 cost= 0.051231673\n",
      "Epoch: 0003 cost= 0.029451991\n",
      "Epoch: 0004 cost= 0.019760672\n",
      "Epoch: 0005 cost= 0.014299860\n",
      "Epoch: 0006 cost= 0.010624113\n",
      "Epoch: 0007 cost= 0.008401911\n",
      "Epoch: 0008 cost= 0.006735386\n",
      "Epoch: 0009 cost= 0.005512852\n",
      "Epoch: 0010 cost= 0.004623068\n",
      "---\n",
      "Accuracy:  1.0\n"
     ]
    }
   ],
   "source": [
    "with tf.Graph().as_default() as g:\n",
    "    with tf.name_scope('data') as scope:\n",
    "        x = tf.placeholder(tf.float32, [None, 784])\n",
    "        y = tf.placeholder(tf.float32, [None, 10])\n",
    "        \n",
    "    with tf.name_scope('relu'):\n",
    "        W1 = tf.Variable(tf.random_normal([784, 400], stddev=0.03), name='W1')\n",
    "        b1 = tf.Variable(tf.zeros([400]), name='b1')\n",
    "        relu = Myrelu(tf.add(tf.matmul(x, W1), b1))\n",
    "        \n",
    "    with tf.name_scope('softmax'):\n",
    "        W2 = tf.Variable(tf.random_normal([400, 10], stddev=0.03), name='W2')\n",
    "        b2 = tf.Variable(tf.zeros([10]), name='b2')\n",
    "        prediction = mySoftMax(tf.add(tf.matmul(relu, W2), b2))\n",
    "        \n",
    "    with tf.name_scope(\"loss\") as scope:\n",
    "        loss = cross_entropy_error(tf.clip_by_value(prediction, 1e-10, 0.9999999), y) \n",
    "\n",
    "    with tf.name_scope('optimizer') as scope:\n",
    "        optimizer = tf.train.GradientDescentOptimizer(learning_rates).minimize(loss)\n",
    "        \n",
    "    with tf.name_scope(\"accuracy\") as scope:\n",
    "        correct_prediction = tf.equal(tf.argmax(y, 1), tf.argmax(prediction, 1))\n",
    "        accuracy = tf.reduce_mean(tf.cast(correct_prediction, tf.float32))\n",
    "        #t_predict = tf.argmax(prediction, axis=1)\n",
    "        #t_actual = tf.argmax(y, axis=1)\n",
    "        #acc = tf.reduce_mean(tf.cast(tf.equal(t_predict, t_actual), tf.float32))\n",
    "        #tf.summary.scalar('Accuracy', acc)\n",
    "\n",
    "with tf.Session(graph=g) as sess:\n",
    "    init = tf.global_variables_initializer()\n",
    "    sess.run(init)\n",
    "    \n",
    "    num_batch = int(mnist.train.num_examples/batch_size)\n",
    "    for epoch in range(epochs):\n",
    "        avg_cost = 0\n",
    "        for _ in range(num_batch):\n",
    "            train_X, train_ys = mnist.train.next_batch(batch_size)\n",
    "            optimizer.run(feed_dict={x:train_X, y:train_ys})\n",
    "            avg_cost += loss.eval(feed_dict={x:train_X, y:train_ys}) / num_batch\n",
    "\n",
    "        print(\"Epoch:\", '%04d' % (epoch+1), \"cost=\", \"{:.9f}\".format(avg_cost), flush=True)\n",
    "\n",
    "    print(\"---\")\n",
    "    # 準確率\n",
    "    test_x = mnist.test.images[:batch_size]\n",
    "    test_t = mnist.test.labels[:batch_size]\n",
    "    print(\"Accuracy: \", sess.run(accuracy, feed_dict={x:test_x, y:test_t}))\n",
    "\n"
   ]
  },
  {
   "cell_type": "markdown",
   "metadata": {
    "colab_type": "text",
    "id": "032Zi9goAatr"
   },
   "source": [
    "## 2. MNIST - Digits classification\n",
    "### Second solution using cnn"
   ]
  },
  {
   "cell_type": "code",
   "execution_count": 2,
   "metadata": {
    "colab": {
     "base_uri": "https://localhost:8080/",
     "height": 471
    },
    "colab_type": "code",
    "id": "xbYXYdvUGjIn",
    "outputId": "79b6bdef-21da-47b5-c22b-dd1b68f87a18"
   },
   "outputs": [
    {
     "name": "stdout",
     "output_type": "stream",
     "text": [
      "WARNING:tensorflow:From <ipython-input-2-9f78d657411d>:5: read_data_sets (from tensorflow.contrib.learn.python.learn.datasets.mnist) is deprecated and will be removed in a future version.\n",
      "Instructions for updating:\n",
      "Please use alternatives such as official/mnist/dataset.py from tensorflow/models.\n",
      "WARNING:tensorflow:From /usr/local/lib/python3.6/dist-packages/tensorflow/contrib/learn/python/learn/datasets/mnist.py:260: maybe_download (from tensorflow.contrib.learn.python.learn.datasets.base) is deprecated and will be removed in a future version.\n",
      "Instructions for updating:\n",
      "Please write your own downloading logic.\n",
      "WARNING:tensorflow:From /usr/local/lib/python3.6/dist-packages/tensorflow/contrib/learn/python/learn/datasets/mnist.py:262: extract_images (from tensorflow.contrib.learn.python.learn.datasets.mnist) is deprecated and will be removed in a future version.\n",
      "Instructions for updating:\n",
      "Please use tf.data to implement this functionality.\n",
      "Extracting /tmp/data/train-images-idx3-ubyte.gz\n",
      "WARNING:tensorflow:From /usr/local/lib/python3.6/dist-packages/tensorflow/contrib/learn/python/learn/datasets/mnist.py:267: extract_labels (from tensorflow.contrib.learn.python.learn.datasets.mnist) is deprecated and will be removed in a future version.\n",
      "Instructions for updating:\n",
      "Please use tf.data to implement this functionality.\n",
      "Extracting /tmp/data/train-labels-idx1-ubyte.gz\n",
      "WARNING:tensorflow:From /usr/local/lib/python3.6/dist-packages/tensorflow/contrib/learn/python/learn/datasets/mnist.py:110: dense_to_one_hot (from tensorflow.contrib.learn.python.learn.datasets.mnist) is deprecated and will be removed in a future version.\n",
      "Instructions for updating:\n",
      "Please use tf.one_hot on tensors.\n",
      "Extracting /tmp/data/t10k-images-idx3-ubyte.gz\n",
      "Extracting /tmp/data/t10k-labels-idx1-ubyte.gz\n",
      "WARNING:tensorflow:From /usr/local/lib/python3.6/dist-packages/tensorflow/contrib/learn/python/learn/datasets/mnist.py:290: DataSet.__init__ (from tensorflow.contrib.learn.python.learn.datasets.mnist) is deprecated and will be removed in a future version.\n",
      "Instructions for updating:\n",
      "Please use alternatives such as official/mnist/dataset.py from tensorflow/models.\n"
     ]
    }
   ],
   "source": [
    "import tensorflow as tf\n",
    "from tensorflow.examples.tutorials.mnist import input_data\n",
    "\n",
    "# 讀入 MNIST\n",
    "mnist = input_data.read_data_sets(\"/tmp/data/\", one_hot = True, reshape=False)\n",
    "# 設定參數\n",
    "learning_rate = 0.1\n",
    "training_epochs = 2\n",
    "batch_size = 100\n",
    "example_X, example_ys = mnist.train.next_batch(batch_size)\n",
    "\n",
    "\n",
    "\n"
   ]
  },
  {
   "cell_type": "code",
   "execution_count": 3,
   "metadata": {
    "colab": {
     "base_uri": "https://localhost:8080/",
     "height": 34
    },
    "colab_type": "code",
    "id": "2mCoOpx2q6C8",
    "outputId": "d0bb41d3-4eb8-4ccb-da66-6334a349c6ed"
   },
   "outputs": [
    {
     "data": {
      "text/plain": [
       "(28, 28, 1)"
      ]
     },
     "execution_count": 3,
     "metadata": {
      "tags": []
     },
     "output_type": "execute_result"
    }
   ],
   "source": [
    "example_X[0].shape\n"
   ]
  },
  {
   "cell_type": "code",
   "execution_count": 0,
   "metadata": {
    "colab": {},
    "colab_type": "code",
    "id": "gu-xnBMAdz9r"
   },
   "outputs": [],
   "source": [
    "def flatten(X, window_h, window_w, window_c, out_h, out_w, stride=1, padding=0):\n",
    "    \n",
    "    X_padded = tf.pad(X, [[0,0], [padding, padding], [padding, padding], [0,0]])\n",
    "\n",
    "    windows = []\n",
    "    for y in range(out_h):\n",
    "        for x in range(out_w):\n",
    "            window = tf.slice(X_padded, [0, y*stride, x*stride, 0], [-1, window_h, window_w, -1])\n",
    "            windows.append(window)\n",
    "    stacked = tf.stack(windows) # shape : [out_h, out_w, n, filter_h, filter_w, c]\n",
    "\n",
    "    return tf.reshape(stacked, [-1, window_c*window_w*window_h])"
   ]
  },
  {
   "cell_type": "code",
   "execution_count": 0,
   "metadata": {
    "colab": {},
    "colab_type": "code",
    "id": "Yn-AR_Gec8wv"
   },
   "outputs": [],
   "source": [
    "def convolution(X, W, b, padding, stride):\n",
    "    n, h, w, c = map(lambda d: d.value, X.get_shape())\n",
    "    filter_h, filter_w, filter_c, filter_n = [d.value for d in W.get_shape()]\n",
    "    \n",
    "    out_h = (h + 2*padding - filter_h)//stride + 1\n",
    "    out_w = (w + 2*padding - filter_w)//stride + 1\n",
    "\n",
    "    X_flat = flatten(X, filter_h, filter_w, filter_c, out_h, out_w, stride, padding)\n",
    "    W_flat = tf.reshape(W, [filter_h*filter_w*filter_c, filter_n])\n",
    "    \n",
    "    z = tf.matmul(X_flat, W_flat) + b     # b: 1 X filter_n\n",
    "    \n",
    "    return tf.transpose(tf.reshape(z, [out_h, out_w, n, filter_n]), [2, 0, 1, 3])"
   ]
  },
  {
   "cell_type": "code",
   "execution_count": 0,
   "metadata": {
    "colab": {},
    "colab_type": "code",
    "id": "KhIezV0giRmG"
   },
   "outputs": [],
   "source": [
    "def max_pool(X, pool_h, pool_w, padding, stride):\n",
    "    n, h, w, c = [d.value for d in X.get_shape()]\n",
    "    \n",
    "    out_h = (h + 2*padding - pool_h)//stride + 1\n",
    "    out_w = (w + 2*padding - pool_w)//stride + 1\n",
    "\n",
    "    X_flat = flatten(X, pool_h, pool_w, c, out_h, out_w, stride, padding)\n",
    "\n",
    "    pool = tf.reduce_max(tf.reshape(X_flat, [out_h, out_w, n, pool_h*pool_w, c]), axis=3)\n",
    "    return tf.transpose(pool, [2, 0, 1, 3])"
   ]
  },
  {
   "cell_type": "code",
   "execution_count": 0,
   "metadata": {
    "colab": {},
    "colab_type": "code",
    "id": "3aMFgjd3ikWK"
   },
   "outputs": [],
   "source": [
    "def affine(X, W, b):\n",
    "    n = X.get_shape()[0].value # number of samples\n",
    "    X_flat = tf.reshape(X, [n, -1])\n",
    "    return tf.matmul(X_flat, W) + b"
   ]
  },
  {
   "cell_type": "code",
   "execution_count": 11,
   "metadata": {
    "colab": {
     "base_uri": "https://localhost:8080/",
     "height": 85
    },
    "colab_type": "code",
    "id": "2c8GyrG9Fp0H",
    "outputId": "97428328-716d-4a41-b54d-8ff39bf60d49"
   },
   "outputs": [
    {
     "name": "stdout",
     "output_type": "stream",
     "text": [
      "Epoch: 0001 cost= 0.856708665\n",
      "Epoch: 0002 cost= 0.120060328\n",
      "---\n",
      "Accuracy:  1.0\n"
     ]
    }
   ],
   "source": [
    "\n",
    "## template\n",
    "with tf.Graph().as_default() as g:\n",
    "    \"\"\" Define dataset and iterator \"\"\"\n",
    "    with tf.name_scope(\"data\"):\n",
    "        X = tf.placeholder('float', [batch_size, 28, 28, 1])\n",
    "        t = tf.placeholder('float', [batch_size, 10])\n",
    "    \n",
    "    \"\"\" Build the model \"\"\"\n",
    "    with tf.name_scope(\"con1\"):\n",
    "        filter_h, filter_w, filter_c, filter_n = 5, 5, 1, 30\n",
    "        W1 = tf.Variable(tf.random_normal([filter_h, filter_w, filter_c, filter_n], stddev=0.01))\n",
    "        b1 = tf.Variable(tf.zeros([filter_n]))\n",
    "        conv_layer = convolution(X, W1, b1, padding=2, stride=1)\n",
    "        \n",
    "    with tf.name_scope(\"activation\"):\n",
    "        conv_activation_layer = Myrelu(conv_layer)\n",
    "    \n",
    "    with tf.name_scope(\"max_pool1\"):\n",
    "        pooling_layer = max_pool(conv_activation_layer, pool_h=2, pool_w=2, padding=0, stride=2)\n",
    "    \n",
    "    with tf.name_scope(\"fcn1\"):\n",
    "        batch_size, pool_output_h, pool_output_w, filter_n = [d.value for d in pooling_layer.get_shape()]\n",
    "        hidden_size = 100\n",
    "        W2 = tf.Variable(tf.random_normal([pool_output_h*pool_output_w*filter_n, hidden_size], stddev=0.01))\n",
    "        b2 = tf.Variable(tf.zeros([hidden_size]))\n",
    "        affine_layer1 = affine(pooling_layer, W2, b2)\n",
    "        affine_activation_layer1 = Myrelu(affine_layer1)\n",
    "    \n",
    "    with tf.name_scope(\"fcn2\"):\n",
    "        output_size = 10\n",
    "        W3 = tf.Variable(tf.random_normal([hidden_size, output_size], stddev=0.01))\n",
    "        b3 = tf.Variable(tf.zeros([output_size]))\n",
    "        affine_layer2 = affine(affine_activation_layer1, W3, b3)\n",
    "        softmax_layer = mySoftMax(affine_layer2)\n",
    "\n",
    "    \"\"\" Define the loss \"\"\"\n",
    "    with tf.name_scope(\"loss\"):\n",
    "        loss = cross_entropy_error(softmax_layer, t)\n",
    "    \n",
    "    \"\"\" Define the optimizer \"\"\"\n",
    "    with tf.name_scope(\"optimizer\"):\n",
    "        optimizer = tf.train.GradientDescentOptimizer(learning_rate).minimize(loss)\n",
    "    \n",
    "    \"\"\" Other tensors or operations you need \"\"\"\n",
    "    with tf.name_scope(\"accuracy\"):\n",
    "        t_predict = tf.argmax(softmax_layer, axis=1)\n",
    "        t_actual = tf.argmax(t, axis=1)\n",
    "        acc = tf.reduce_mean(tf.cast(tf.equal(t_predict, t_actual), tf.float32))\n",
    "        tf.summary.scalar('Accuracy', acc)\n",
    "        \n",
    "\n",
    "with tf.Session(graph=g) as sess:\n",
    "    \"\"\" Initialize the variables \"\"\"\n",
    "    init = tf.global_variables_initializer()\n",
    "    \"\"\" Run the target tensors and operations \"\"\"\n",
    "    sess.run(init)\n",
    "    num_batch = int(mnist.train.num_examples/batch_size)\n",
    "    for epoch in range(training_epochs):\n",
    "        avg_cost = 0\n",
    "        for _ in range(num_batch):\n",
    "            train_X, train_ys = mnist.train.next_batch(batch_size)\n",
    "            optimizer.run(feed_dict={X:train_X, t:train_ys})\n",
    "            avg_cost += loss.eval(feed_dict={X:train_X, t:train_ys}) / num_batch\n",
    "\n",
    "        print(\"Epoch:\", '%04d' % (epoch+1), \"cost=\", \"{:.9f}\".format(avg_cost), flush=True)\n",
    "\n",
    "    print(\"---\")\n",
    "    # 準確率\n",
    "    test_x = mnist.test.images[:batch_size]\n",
    "    test_t = mnist.test.labels[:batch_size]\n",
    "    print(\"Accuracy: \", sess.run(acc, feed_dict={X:test_x, t:test_t}))\n",
    "\n",
    "    # sess.close()"
   ]
  },
  {
   "cell_type": "code",
   "execution_count": 0,
   "metadata": {
    "colab": {},
    "colab_type": "code",
    "id": "ekIscU474X0S"
   },
   "outputs": [],
   "source": []
  }
 ],
 "metadata": {
  "colab": {
   "collapsed_sections": [],
   "name": "Lab10_104000033.ipynb",
   "provenance": [],
   "version": "0.3.2"
  },
  "kernelspec": {
   "display_name": "ML",
   "language": "python",
   "name": "ml"
  },
  "language_info": {
   "codemirror_mode": {
    "name": "ipython",
    "version": 3
   },
   "file_extension": ".py",
   "mimetype": "text/x-python",
   "name": "python",
   "nbconvert_exporter": "python",
   "pygments_lexer": "ipython3",
   "version": "3.6.6"
  }
 },
 "nbformat": 4,
 "nbformat_minor": 1
}
