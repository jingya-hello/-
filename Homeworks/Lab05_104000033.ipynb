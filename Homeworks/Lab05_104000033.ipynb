{
 "cells": [
  {
   "cell_type": "code",
   "execution_count": 1,
   "metadata": {},
   "outputs": [],
   "source": [
    "import pandas as pd\n",
    "import numpy as np"
   ]
  },
  {
   "cell_type": "code",
   "execution_count": 2,
   "metadata": {},
   "outputs": [
    {
     "name": "stderr",
     "output_type": "stream",
     "text": [
      "/Library/Frameworks/Python.framework/Versions/3.6/lib/python3.6/site-packages/sklearn/cross_validation.py:41: DeprecationWarning: This module was deprecated in version 0.18 in favor of the model_selection module into which all the refactored classes and functions are moved. Also note that the interface of the new CV iterators are different from that of this module. This module will be removed in 0.20.\n",
      "  \"This module will be removed in 0.20.\", DeprecationWarning)\n",
      "/Library/Frameworks/Python.framework/Versions/3.6/lib/python3.6/site-packages/sklearn/learning_curve.py:22: DeprecationWarning: This module was deprecated in version 0.18 in favor of the model_selection module into which all the functions are moved. This module will be removed in 0.20\n",
      "  DeprecationWarning)\n"
     ]
    }
   ],
   "source": [
    "from sklearn.preprocessing import StandardScaler\n",
    "from sklearn.model_selection import train_test_split\n",
    "from sklearn.linear_model import Perceptron\n",
    "from sklearn.linear_model import RidgeClassifier\n",
    "from sklearn.preprocessing import PolynomialFeatures\n",
    "from sklearn.metrics import mean_squared_error\n",
    "from sklearn.metrics import accuracy_score\n",
    "from sklearn.linear_model import SGDClassifier\n",
    "\n",
    "from sklearn.learning_curve import learning_curve\n",
    "import matplotlib.pyplot as plt\n",
    "\n",
    "import csv\n",
    "from sklearn.feature_selection import SelectFromModel"
   ]
  },
  {
   "cell_type": "code",
   "execution_count": 3,
   "metadata": {},
   "outputs": [],
   "source": [
    "X = pd.read_csv('./data/nba/X_train.csv')\n",
    "y_train = pd.read_csv('./data/nba/y_train.csv')\n",
    "\n",
    "X_test = pd.read_csv('./data/nba/X_test.csv')"
   ]
  },
  {
   "cell_type": "code",
   "execution_count": 4,
   "metadata": {},
   "outputs": [],
   "source": [
    "def pd2np(df):\n",
    "    return df.as_matrix()\n",
    "X_train = pd2np(X)\n",
    "y_train = pd2np(y_train)\n",
    "\n",
    "X_test = pd2np(X_test)"
   ]
  },
  {
   "cell_type": "markdown",
   "metadata": {},
   "source": [
    "## Data Preprocessing"
   ]
  },
  {
   "cell_type": "code",
   "execution_count": 5,
   "metadata": {},
   "outputs": [],
   "source": [
    "sc = StandardScaler()\n",
    "X_train = sc.fit_transform(X_train)\n",
    "X_train, X_valid, y_train, y_valid = train_test_split(X_train, y_train, test_size=0.3, random_state=1)"
   ]
  },
  {
   "cell_type": "markdown",
   "metadata": {},
   "source": [
    "## Training"
   ]
  },
  {
   "cell_type": "markdown",
   "metadata": {},
   "source": [
    "### Perceptron"
   ]
  },
  {
   "cell_type": "code",
   "execution_count": 7,
   "metadata": {},
   "outputs": [
    {
     "name": "stderr",
     "output_type": "stream",
     "text": [
      "/Library/Frameworks/Python.framework/Versions/3.6/lib/python3.6/site-packages/sklearn/utils/validation.py:578: DataConversionWarning: A column-vector y was passed when a 1d array was expected. Please change the shape of y to (n_samples, ), for example using ravel().\n",
      "  y = column_or_1d(y, warn=True)\n"
     ]
    },
    {
     "name": "stdout",
     "output_type": "stream",
     "text": [
      "\n",
      "[Alpha = 0]\n",
      "MSE train: 0.47, valid: 0.47\n",
      "Accuracy train: 0.53, Accuracy valid: 0.53\n",
      "\n",
      "[Alpha = 1]\n",
      "MSE train: 0.47, valid: 0.47\n",
      "Accuracy train: 0.53, Accuracy valid: 0.53\n",
      "\n",
      "[Alpha = 10]\n",
      "MSE train: 0.54, valid: 0.55\n",
      "Accuracy train: 0.46, Accuracy valid: 0.45\n",
      "\n",
      "[Alpha = 100]\n",
      "MSE train: 0.54, valid: 0.55\n",
      "Accuracy train: 0.46, Accuracy valid: 0.45\n",
      "\n",
      "[Alpha = 1000]\n",
      "MSE train: 0.54, valid: 0.55\n",
      "Accuracy train: 0.46, Accuracy valid: 0.45\n"
     ]
    }
   ],
   "source": [
    "\n",
    "# max_iter : The maximum number of passes over the training data\n",
    "# eta0 : learning rate\n",
    "\n",
    "for a in [0, 1, 10, 100, 1000]:\n",
    "    ppn = Perceptron(penalty='l2', alpha=a, max_iter=10, eta0=0.1, random_state=0)\n",
    "    ppn.fit(X_train, y_train)\n",
    "    \n",
    "    y_train_pred = ppn.predict(X_train)\n",
    "    y_valid_pred = ppn.predict(X_valid)\n",
    "    \n",
    "    print('\\n[Alpha = %d]' % a )\n",
    "    print('MSE train: %.2f, valid: %.2f' % (\n",
    "                    mean_squared_error(y_train, y_train_pred),\n",
    "                    mean_squared_error(y_valid, y_valid_pred)))\n",
    "    print('Accuracy train: %.2f, Accuracy valid: %.2f' % (\n",
    "                    accuracy_score(y_train, y_train_pred),\n",
    "                    accuracy_score(y_valid, y_valid_pred)))"
   ]
  },
  {
   "cell_type": "markdown",
   "metadata": {},
   "source": [
    "### Ridge Regression"
   ]
  },
  {
   "cell_type": "code",
   "execution_count": 8,
   "metadata": {},
   "outputs": [
    {
     "name": "stdout",
     "output_type": "stream",
     "text": [
      "\n",
      "[Alpha = 0]\n",
      "MSE train: 0.39, valid: 0.39\n",
      "Accuracy train: 0.61, Accuracy valid: 0.61\n",
      "\n",
      "[Alpha = 1]\n",
      "MSE train: 0.39, valid: 0.39\n",
      "Accuracy train: 0.61, Accuracy valid: 0.61\n",
      "\n",
      "[Alpha = 10]\n",
      "MSE train: 0.39, valid: 0.39\n",
      "Accuracy train: 0.61, Accuracy valid: 0.61\n",
      "\n",
      "[Alpha = 100]\n",
      "MSE train: 0.39, valid: 0.39\n",
      "Accuracy train: 0.61, Accuracy valid: 0.61\n",
      "\n",
      "[Alpha = 1000]\n",
      "MSE train: 0.39, valid: 0.39\n",
      "Accuracy train: 0.61, Accuracy valid: 0.61\n"
     ]
    },
    {
     "name": "stderr",
     "output_type": "stream",
     "text": [
      "/Library/Frameworks/Python.framework/Versions/3.6/lib/python3.6/site-packages/sklearn/linear_model/ridge.py:810: DataConversionWarning: A column-vector y was passed when a 1d array was expected. Please change the shape of y to (n_samples, ), for example using ravel().\n",
      "  y = column_or_1d(y, warn=True)\n"
     ]
    }
   ],
   "source": [
    "\n",
    "\n",
    "#poly = PolynomialFeatures(degree=3)\n",
    "#X_poly = poly.fit_transform(X_train)\n",
    "\n",
    "for a in [0, 1, 10, 100, 1000]:\n",
    "    lr_rg = RidgeClassifier(alpha=a)\n",
    "    lr_rg.fit(X_train, y_train)\n",
    "\n",
    "    y_train_pred = lr_rg.predict(X_train)\n",
    "    y_valid_pred = lr_rg.predict(X_valid)\n",
    "\n",
    "    print('\\n[Alpha = %d]' % a )\n",
    "    print('MSE train: %.2f, valid: %.2f' % (\n",
    "                    mean_squared_error(y_train, y_train_pred),\n",
    "                    mean_squared_error(y_valid, y_valid_pred)))\n",
    "    print('Accuracy train: %.2f, Accuracy valid: %.2f' % (\n",
    "                    accuracy_score(y_train, y_train_pred),\n",
    "                    accuracy_score(y_valid, y_valid_pred)))"
   ]
  },
  {
   "cell_type": "code",
   "execution_count": 9,
   "metadata": {},
   "outputs": [
    {
     "name": "stderr",
     "output_type": "stream",
     "text": [
      "/Library/Frameworks/Python.framework/Versions/3.6/lib/python3.6/site-packages/ipykernel_launcher.py:12: DataConversionWarning: A column-vector y was passed when a 1d array was expected. Please change the shape of y to (n_samples,), for example using ravel().\n",
      "  if sys.path[0] == '':\n"
     ]
    },
    {
     "name": "stdout",
     "output_type": "stream",
     "text": [
      "Accuracy (forest) train: 0.62\n",
      "Accuracy (forest) valid: 0.62\n"
     ]
    }
   ],
   "source": [
    "from sklearn.ensemble import RandomForestClassifier\n",
    "\n",
    "# criterion : impurity function\n",
    "# n_estimators :  number of decision trees\n",
    "# random_state : seed used by the random number generator\n",
    "# n_jobs : number of cores for parallelism\n",
    "forest = RandomForestClassifier(criterion='entropy',\n",
    "                                n_estimators=2000, \n",
    "                                max_depth=6,\n",
    "                                random_state=1,\n",
    "                                n_jobs=2)\n",
    "forest.fit(X_train, y_train)\n",
    "\n",
    "y_train_pred = forest.predict(X_train)\n",
    "y_valid_pred = forest.predict(X_valid)\n",
    "print('Accuracy (forest) train: %.2f' % accuracy_score(y_train, y_train_pred))\n",
    "print('Accuracy (forest) valid: %.2f' % accuracy_score(y_valid, y_valid_pred))\n"
   ]
  },
  {
   "cell_type": "markdown",
   "metadata": {},
   "source": [
    "## Find top-3 feature using the most important feature find in the random forest"
   ]
  },
  {
   "cell_type": "markdown",
   "metadata": {},
   "source": [
    "top3 feature : SHOT_DIST, CLOSE_DEF_DIST, PTS_TYPE"
   ]
  },
  {
   "cell_type": "code",
   "execution_count": 10,
   "metadata": {},
   "outputs": [
    {
     "name": "stdout",
     "output_type": "stream",
     "text": [
      " 1) SHOT_DIST                      0.453415\n",
      " 2) CLOSE_DEF_DIST                 0.144639\n",
      " 3) PTS_TYPE                       0.104642\n",
      " 4) SHOT_CLOCK                     0.103402\n",
      " 5) TOUCH_TIME                     0.100668\n",
      " 6) GAME_CLOCK                     0.045885\n",
      " 7) DRIBBLES                       0.038395\n",
      " 8) PERIOD                         0.008955\n"
     ]
    }
   ],
   "source": [
    "importances = forest.feature_importances_\n",
    "# get sort indices in descending order\n",
    "indices = np.argsort(importances)[::-1]\n",
    "\n",
    "for f in range(X_train.shape[1]):\n",
    "    print(\"%2d) %-*s %f\" % (f + 1, 30, \n",
    "                            X.columns.values[indices[f]], \n",
    "                            importances[indices[f]]))"
   ]
  },
  {
   "cell_type": "markdown",
   "metadata": {},
   "source": [
    "### SGD Classifier "
   ]
  },
  {
   "cell_type": "code",
   "execution_count": 11,
   "metadata": {},
   "outputs": [
    {
     "name": "stdout",
     "output_type": "stream",
     "text": [
      "\n",
      "[Alpha = 1]\n",
      "MSE train: 0.40, valid: 0.40\n",
      "Accuracy train: 0.60, Accuracy valid: 0.60\n",
      "\n",
      "[Alpha = 10]\n",
      "MSE train: 0.46, valid: 0.45\n",
      "Accuracy train: 0.54, Accuracy valid: 0.55\n",
      "\n",
      "[Alpha = 100]\n",
      "MSE train: 0.46, valid: 0.45\n",
      "Accuracy train: 0.54, Accuracy valid: 0.55\n",
      "\n",
      "[Alpha = 1000]\n",
      "MSE train: 0.54, valid: 0.55\n",
      "Accuracy train: 0.46, Accuracy valid: 0.45\n"
     ]
    },
    {
     "name": "stderr",
     "output_type": "stream",
     "text": [
      "/Library/Frameworks/Python.framework/Versions/3.6/lib/python3.6/site-packages/sklearn/linear_model/stochastic_gradient.py:128: FutureWarning: max_iter and tol parameters have been added in <class 'sklearn.linear_model.stochastic_gradient.SGDClassifier'> in 0.19. If both are left unset, they default to max_iter=5 and tol=None. If tol is not None, max_iter defaults to max_iter=1000. From 0.21, default max_iter will be 1000, and default tol will be 1e-3.\n",
      "  \"and default tol will be 1e-3.\" % type(self), FutureWarning)\n",
      "/Library/Frameworks/Python.framework/Versions/3.6/lib/python3.6/site-packages/sklearn/utils/validation.py:578: DataConversionWarning: A column-vector y was passed when a 1d array was expected. Please change the shape of y to (n_samples, ), for example using ravel().\n",
      "  y = column_or_1d(y, warn=True)\n"
     ]
    }
   ],
   "source": [
    "\n",
    "for a in [1, 10, 100, 1000]:\n",
    "    # penalty is defailt to l2 Regularization\n",
    "    sgd = SGDClassifier(alpha=a)\n",
    "    sgd.fit(X_train, y_train)\n",
    "    \n",
    "    y_train_pred = sgd.predict(X_train)\n",
    "    y_valid_pred = sgd.predict(X_valid)\n",
    "    \n",
    "    print('\\n[Alpha = %d]' % a )\n",
    "    print('MSE train: %.2f, valid: %.2f' % (\n",
    "                    mean_squared_error(y_train, y_train_pred),\n",
    "                    mean_squared_error(y_valid, y_valid_pred)))\n",
    "    print('Accuracy train: %.2f, Accuracy valid: %.2f' % (\n",
    "                    accuracy_score(y_train, y_train_pred),\n",
    "                    accuracy_score(y_valid, y_valid_pred)))"
   ]
  },
  {
   "cell_type": "markdown",
   "metadata": {},
   "source": [
    "### Learning Curve"
   ]
  },
  {
   "cell_type": "code",
   "execution_count": 12,
   "metadata": {},
   "outputs": [],
   "source": [
    "# learning curve of random forest\n",
    "\n",
    "def score(model, X, y):\n",
    "    return accuracy_score(model.predict(X), y)\n",
    "\n",
    "train_sizes, train_scores, test_scores = learning_curve(estimator=forest, X=X_train, y=y_train.reshape(y_train.shape[0]), scoring=score)\n",
    "\n",
    "train_mean = np.mean(train_scores, axis=1)\n",
    "train_std = np.std(train_scores, axis=1)\n",
    "test_mean = np.mean(test_scores, axis=1)\n",
    "test_std = np.std(test_scores, axis=1)\n",
    "\n"
   ]
  },
  {
   "cell_type": "code",
   "execution_count": 13,
   "metadata": {},
   "outputs": [
    {
     "data": {
      "image/png": "[encoded data removed]",
      "text/plain": [
       "<Figure size 432x288 with 1 Axes>"
      ]
     },
     "metadata": {},
     "output_type": "display_data"
    }
   ],
   "source": [
    "plt.plot(train_sizes, train_mean,\n",
    "    color='blue', marker='o',\n",
    "    markersize=5,\n",
    "    label='Training error')\n",
    "plt.fill_between(train_sizes,\n",
    "    train_mean+train_std,\n",
    "    train_mean-train_std,\n",
    "    alpha=0.15, color='blue')\n",
    "\n",
    "plt.plot(train_sizes, test_mean,\n",
    "    color='green', linestyle='--',\n",
    "    marker='s', markersize=5,\n",
    "    label='Testing error')\n",
    "plt.fill_between(train_sizes,\n",
    "    test_mean+test_std,\n",
    "    test_mean-test_std,\n",
    "    alpha=0.15, color='green')\n",
    "\n",
    "# plt.hlines(y=1, xmin=500, xmax=25000, color='red', linewidth=2, linestyle='--')\n",
    "\n",
    "plt.title('leaning curve')\n",
    "plt.grid()\n",
    "plt.xlabel('Number of training samples')\n",
    "plt.ylabel('accuracy')\n",
    "plt.legend(loc='upper right')\n",
    "plt.ylim([0.55, 0.7])\n",
    "plt.tight_layout()\n",
    "plt.savefig('./output/fig-learning-curve.png', dpi=300)\n",
    "plt.show()"
   ]
  },
  {
   "cell_type": "markdown",
   "metadata": {},
   "source": [
    "### Train again with only the important feature"
   ]
  },
  {
   "cell_type": "code",
   "execution_count": 14,
   "metadata": {},
   "outputs": [
    {
     "name": "stderr",
     "output_type": "stream",
     "text": [
      "/Library/Frameworks/Python.framework/Versions/3.6/lib/python3.6/site-packages/sklearn/feature_selection/from_model.py:169: DataConversionWarning: A column-vector y was passed when a 1d array was expected. Please change the shape of y to (n_samples,), for example using ravel().\n",
      "  self.estimator_.fit(X, y, **fit_params)\n"
     ]
    },
    {
     "name": "stdout",
     "output_type": "stream",
     "text": [
      " 1) SHOT_DIST                      0.453415\n",
      " 2) CLOSE_DEF_DIST                 0.144639\n",
      " 3) PTS_TYPE                       0.104642\n"
     ]
    }
   ],
   "source": [
    "# put prefitted RandomForestClassifier \"forest\" into SelectFromModel\n",
    "sfm = SelectFromModel(forest, threshold=0.104)\n",
    "sfm.fit(X_train, y_train)\n",
    "Z_forest_alt = sfm.transform(X_train)\n",
    "\n",
    "for f in range(Z_forest_alt.shape[1]): #mdf\n",
    "    print(\"%2d) %-*s %f\" % (f + 1, 30, \n",
    "                            X.columns.values[indices[f]], \n",
    "                            importances[indices[f]]))\n"
   ]
  },
  {
   "cell_type": "code",
   "execution_count": 15,
   "metadata": {},
   "outputs": [
    {
     "name": "stderr",
     "output_type": "stream",
     "text": [
      "/Library/Frameworks/Python.framework/Versions/3.6/lib/python3.6/site-packages/ipykernel_launcher.py:1: DataConversionWarning: A column-vector y was passed when a 1d array was expected. Please change the shape of y to (n_samples,), for example using ravel().\n",
      "  \"\"\"Entry point for launching an IPython kernel.\n"
     ]
    },
    {
     "name": "stdout",
     "output_type": "stream",
     "text": [
      "Accuracy: 0.62\n"
     ]
    }
   ],
   "source": [
    "forest.fit(Z_forest_alt, y_train)\n",
    "X_valid = sfm.transform(X_valid)\n",
    "\n",
    "y_pred = forest.predict(X_valid)\n",
    "\n",
    "print('Accuracy: %.2f' % accuracy_score(y_valid, y_pred))"
   ]
  },
  {
   "cell_type": "code",
   "execution_count": 16,
   "metadata": {},
   "outputs": [],
   "source": [
    "\n",
    "X_test = sfm.transform(X_test)\n",
    "y_pred = forest.predict(X_test)\n",
    "\n",
    "y_pred = y_pred.reshape(y_pred.shape[0],1)\n",
    "with open('y_pred.csv', 'w') as f:\n",
    "    writer = csv.writer(f)\n",
    "    writer.writerows(y_pred)"
   ]
  },
  {
   "cell_type": "code",
   "execution_count": null,
   "metadata": {},
   "outputs": [],
   "source": []
  }
 ],
 "metadata": {
  "kernelspec": {
   "display_name": "Python 3",
   "language": "python",
   "name": "python3"
  },
  "language_info": {
   "codemirror_mode": {
    "name": "ipython",
    "version": 3
   },
   "file_extension": ".py",
   "mimetype": "text/x-python",
   "name": "python",
   "nbconvert_exporter": "python",
   "pygments_lexer": "ipython3",
   "version": "3.6.4"
  }
 },
 "nbformat": 4,
 "nbformat_minor": 2
}
